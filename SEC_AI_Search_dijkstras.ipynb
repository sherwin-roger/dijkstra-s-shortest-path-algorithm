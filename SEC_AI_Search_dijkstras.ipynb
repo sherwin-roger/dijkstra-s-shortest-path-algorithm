{
 "cells": [
  {
   "cell_type": "code",
   "execution_count": 1,
   "id": "456faa04",
   "metadata": {},
   "outputs": [],
   "source": [
    "%matplotlib inline\n",
    "import matplotlib.pyplot as plt\n",
    "import random\n",
    "import math\n",
    "import sys\n",
    "from collections import defaultdict, deque, Counter\n",
    "from itertools import combinations\n",
    "import heapq"
   ]
  },
  {
   "cell_type": "code",
   "execution_count": null,
   "id": "febb0da9-afbf-4ae5-8fde-4c886824b424",
   "metadata": {},
   "outputs": [],
   "source": []
  },
  {
   "cell_type": "markdown",
   "id": "979a4a51",
   "metadata": {},
   "source": [
    "# Problems"
   ]
  },
  {
   "cell_type": "markdown",
   "id": "7d58e05c-5c73-492b-a5d0-77e6578ff7c2",
   "metadata": {},
   "source": [
    "#### This is the abstract class. Specific problem domains will subclass this."
   ]
  },
  {
   "cell_type": "code",
   "execution_count": 2,
   "id": "6cda9c85",
   "metadata": {},
   "outputs": [],
   "source": [
    "class Problem(object):\n",
    "    \"\"\"The abstract class for a formal problem. A new domain subclasses this,\n",
    "    overriding `actions` and `results`, and perhaps other methods.\n",
    "    The default heuristic is 0 and the default action cost is 1 for all states.\n",
    "    When yiou create an instance of a subclass, specify `initial`, and `goal` states \n",
    "    (or give an `is_goal` method) and perhaps other keyword args for the subclass.\"\"\"\n",
    "\n",
    "    def __init__(self, initial=None, goal=None, **kwds): \n",
    "        self.__dict__.update(initial=initial, goal=goal, **kwds) \n",
    "        \n",
    "    def actions(self, state):        \n",
    "        raise NotImplementedError\n",
    "    def result(self, state, action): \n",
    "        raise NotImplementedError\n",
    "    def is_goal(self, state):        \n",
    "        return state == self.goal\n",
    "    def action_cost(self, s, a, s1): \n",
    "        return 1\n",
    "    \n",
    "    def __str__(self):\n",
    "        return '{0}({1}, {2})'.format(\n",
    "            type(self).__name__, self.initial, self.goal)"
   ]
  },
  {
   "cell_type": "markdown",
   "id": "7a6d497d-96eb-498c-bd51-3c935d0dea0a",
   "metadata": {},
   "source": [
    "# Nodes"
   ]
  },
  {
   "cell_type": "markdown",
   "id": "b68f2b8d-7ccf-48e3-ab0d-151c7468675f",
   "metadata": {
    "tags": []
   },
   "source": [
    "#### This is the Node in the search tree. Helper functions (expand, path_actions, path_states) use this Node class."
   ]
  },
  {
   "cell_type": "code",
   "execution_count": 3,
   "id": "e3a0a4a9",
   "metadata": {},
   "outputs": [],
   "source": [
    "class Node:\n",
    "    \"A Node in a search tree.\"\n",
    "    def __init__(self, state, parent=None, action=None, path_cost=0):\n",
    "        self.__dict__.update(state=state, parent=parent, action=action, path_cost=path_cost)\n",
    "\n",
    "    def __str__(self): \n",
    "        return '<{0}>'.format(self.state)\n",
    "    def __len__(self): \n",
    "        return 0 if self.parent is None else (1 + len(self.parent))\n",
    "    def __lt__(self, other): \n",
    "        return self.path_cost < other.path_cost"
   ]
  },
  {
   "cell_type": "code",
   "execution_count": 4,
   "id": "abc1a9ff",
   "metadata": {},
   "outputs": [],
   "source": [
    "failure = Node('failure', path_cost=math.inf) # Indicates an algorithm couldn't find a solution.\n",
    "cutoff  = Node('cutoff',  path_cost=math.inf) # Indicates iterative deepening search was cut off."
   ]
  },
  {
   "cell_type": "markdown",
   "id": "1f1eed03-f5bb-48ec-8b60-e882d93c2fdf",
   "metadata": {},
   "source": [
    "# Helper functions"
   ]
  },
  {
   "cell_type": "code",
   "execution_count": 5,
   "id": "6f8c0a62",
   "metadata": {},
   "outputs": [],
   "source": [
    "def expand(problem, node):\n",
    "    \"Expand a node, generating the children nodes.\"\n",
    "    s = node.state\n",
    "    for action in problem.actions(s):\n",
    "        s1 = problem.result(s, action)\n",
    "        cost = node.path_cost + problem.action_cost(s, action, s1)\n",
    "        yield Node(s1, node, action, cost)\n",
    "        \n",
    "\n",
    "def path_actions(node):\n",
    "    \"The sequence of actions to get to this node.\"\n",
    "    if node.parent is None:\n",
    "        return []  \n",
    "    return path_actions(node.parent) + [node.action]\n",
    "\n",
    "\n",
    "def path_states(node):\n",
    "    \"The sequence of states to get to this node.\"\n",
    "    if node in (cutoff, failure, None): \n",
    "        return []\n",
    "    return path_states(node.parent) + [node.state]"
   ]
  },
  {
   "cell_type": "markdown",
   "id": "078dd1f6-b7ac-40e1-af0d-060df0f3240f",
   "metadata": {},
   "source": [
    "# Search Algorithm :  Dijkstra's shortest path algorithm"
   ]
  },
  {
   "cell_type": "code",
   "execution_count": 6,
   "id": "89ce7e27-1ab3-458b-816a-b9485a823256",
   "metadata": {},
   "outputs": [],
   "source": [
    "class PriorityQueue:\n",
    "    \"\"\"A queue in which the item with minimum f(item) is always popped first.\"\"\"\n",
    "\n",
    "    def __init__(self, items=(), key=lambda x: x): \n",
    "        self.key = key\n",
    "        self.items = [] # a heap of (score, item) pairs\n",
    "        for item in items:\n",
    "            self.add(item)\n",
    "         \n",
    "    def add(self, item):\n",
    "        \"\"\"Add item to the queuez.\"\"\"\n",
    "        pair = (self.key(item), item)\n",
    "        heapq.heappush(self.items, pair)\n",
    "\n",
    "    def pop(self):\n",
    "        \"\"\"Pop and return the item with min f(item) value.\"\"\"\n",
    "        return heapq.heappop(self.items)[1]\n",
    "    \n",
    "    def top(self): return self.items[0][1]\n",
    "\n",
    "    def __len__(self): return len(self.items)"
   ]
  },
  {
   "cell_type": "code",
   "execution_count": 7,
   "id": "94049915",
   "metadata": {},
   "outputs": [],
   "source": [
    "def best_first_search(problem, f):\n",
    "    \"Search nodes with minimum f(node) value first.\"\n",
    "    node = Node(problem.initial)\n",
    "    frontier = PriorityQueue([node], key=f)\n",
    "    reached = {problem.initial: node}\n",
    "    while frontier:\n",
    "        node = frontier.pop()\n",
    "        if problem.is_goal(node.state):\n",
    "            return node\n",
    "        for child in expand(problem,node):\n",
    "            s=child.state\n",
    "            if s not in reached or child.path_cost<reached[s].path_cost:\n",
    "                reached[s]=child\n",
    "                frontier.add(child)\n",
    "    return failure\n",
    "\n",
    "def g(n): \n",
    "    # Write your code here ; modify the below mentioned line to find the actual cost\n",
    "    # cost = 1\n",
    "    # return cost\n",
    "    return n.path_cost"
   ]
  },
  {
   "cell_type": "markdown",
   "id": "8205cade",
   "metadata": {},
   "source": [
    "# Route Finding Problems"
   ]
  },
  {
   "cell_type": "code",
   "execution_count": 8,
   "id": "b290e106",
   "metadata": {},
   "outputs": [],
   "source": [
    "class RouteProblem(Problem):\n",
    "    \"\"\"A problem to find a route between locations on a `Map`.\n",
    "    Create a problem with RouteProblem(start, goal, map=Map(...)}).\n",
    "    States are the vertexes in the Map graph; actions are destination states.\"\"\"\n",
    "    \n",
    "    def actions(self, state): \n",
    "        \"\"\"The places neighboring `state`.\"\"\"\n",
    "        return self.map.neighbors[state]\n",
    "    \n",
    "    def result(self, state, action):\n",
    "        \"\"\"Go to the `action` place, if the map says that is possible.\"\"\"\n",
    "        return action if action in self.map.neighbors[state] else state\n",
    "    \n",
    "    def action_cost(self, s, action, s1):\n",
    "        \"\"\"The distance (cost) to go from s to s1.\"\"\"\n",
    "        return self.map.distances[s, s1]\n",
    "    \n",
    "    def h(self, node):\n",
    "        \"Straight-line distance between state and the goal.\"\n",
    "        locs = self.map.locations\n",
    "        return straight_line_distance(locs[node.state], locs[self.goal])\n",
    "    \n"
   ]
  },
  {
   "cell_type": "code",
   "execution_count": 9,
   "id": "cc3e4c12",
   "metadata": {},
   "outputs": [],
   "source": [
    "class Map:\n",
    "    \"\"\"A map of places in a 2D world: a graph with vertexes and links between them. \n",
    "    In `Map(links, locations)`, `links` can be either [(v1, v2)...] pairs, \n",
    "    or a {(v1, v2): distance...} dict. Optional `locations` can be {v1: (x, y)} \n",
    "    If `directed=False` then for every (v1, v2) link, we add a (v2, v1) link.\"\"\"\n",
    "\n",
    "    def __init__(self, links, locations=None, directed=False):\n",
    "        if not hasattr(links, 'items'): # Distances are 1 by default\n",
    "            links = {link: 1 for link in links}\n",
    "        if not directed:\n",
    "            for (v1, v2) in list(links):\n",
    "                links[v2, v1] = links[v1, v2]\n",
    "        self.distances = links\n",
    "        self.neighbors = multimap(links)\n",
    "        self.locations = locations or defaultdict(lambda: (0, 0))\n",
    "\n",
    "        \n",
    "def multimap(pairs) -> dict:\n",
    "    \"Given (key, val) pairs, make a dict of {key: [val,...]}.\"\n",
    "    result = defaultdict(list)\n",
    "    for key, val in pairs:\n",
    "        result[key].append(val)\n",
    "    return result"
   ]
  },
  {
   "cell_type": "code",
   "execution_count": 10,
   "id": "95698a3e",
   "metadata": {},
   "outputs": [],
   "source": [
    "# Create your own map and define the nodes\n",
    "\n",
    "locations = Map(\n",
    "    {('dindigul','ayyalur'):25,\n",
    "    ('ayyalur','manapaarai'):34,\n",
    "    ('manapaarai','trichy'):42,\n",
    "    ('trichy','tanjore'):59,\n",
    "    ('tanjore','orathanaadu'):23,\n",
    "    ('orathanaadu','pattukottai'):25,\n",
    "    ('pattukottai','peravurani'):23,\n",
    "    ('peravurani','alangudi'):29,\n",
    "    ('alangudi','aranthangi'):27,\n",
    "    ('aranthangi','karaikudi'):32,\n",
    "    ('karaikudi','thirupattur'):23,\n",
    "    ('thirupattur','singampunari'):22,\n",
    "    ('singampunari','natham'):26,\n",
    "    ('natham','dindigul'):35,\n",
    "    ('manapaarai','thuvarangurichi'):33,\n",
    "    ('thuvarangurichi','singampunari'):28,\n",
    "    ('manapaarai','viralimalai'):19,\n",
    "    ('viralimalai','thuvarangurichi'):32,\n",
    "    ('viralimalai','trichy'):28,\n",
    "    ('viralimalai','sooriyur'):29,\n",
    "    ('trichy','sooriyur'):25,\n",
    "    ('sooriyur','keeranur'):15,\n",
    "    ('keeranur','gandarvakottai'):33,\n",
    "    ('gandarvakottai','tanjore'):29,\n",
    "    ('keeranur','ilupur'):26,\n",
    "    ('ilupur','viralimalai'):15,\n",
    "    ('pudukottai','gandarvakottai'):34,\n",
    "    ('pudukottai','ilupur'):25,\n",
    "    ('pudukottai','alangudi'):22,\n",
    "    ('pudukottai','thirumayam'):19,\n",
    "    ('thirumayam','thirupattur'):25,\n",
    "    ('thirumayam','karaikudi'):21})\n",
    "\n",
    "\n",
    "r0 = RouteProblem('dindigul', 'pudukottai', map=locations)\n",
    "r1 = RouteProblem('pudukottai', 'trichy', map=locations)\n",
    "r2 = RouteProblem('tanjore', 'pudukottai', map=locations)\n",
    "r3 = RouteProblem('trichy', 'alangudi', map=locations)\n",
    "r4 = RouteProblem('tanjore', 'peravurani', map=locations)"
   ]
  },
  {
   "cell_type": "code",
   "execution_count": 20,
   "id": "d23881cf-7da1-4c6c-84ec-08c1c83b86df",
   "metadata": {},
   "outputs": [
    {
     "name": "stdout",
     "output_type": "stream",
     "text": [
      "GoalStateWithPath:<pudukottai>\n"
     ]
    },
    {
     "data": {
      "text/plain": [
       "['dindigul', 'ayyalur', 'manapaarai', 'viralimalai', 'ilupur', 'pudukottai']"
      ]
     },
     "execution_count": 20,
     "metadata": {},
     "output_type": "execute_result"
    }
   ],
   "source": [
    "goal_state_path=best_first_search(r0,g)\n",
    "print(\"GoalStateWithPath:{0}\".format(goal_state_path))\n",
    "path_states(goal_state_path) \n"
   ]
  },
  {
   "cell_type": "code",
   "execution_count": 21,
   "id": "e689caea-c039-4315-bc64-f64eeabfd583",
   "metadata": {},
   "outputs": [
    {
     "name": "stdout",
     "output_type": "stream",
     "text": [
      "Total Distance=118 Kilometers\n"
     ]
    }
   ],
   "source": [
    "print(\"Total Distance={0} Kilometers\".format(goal_state_path.path_cost))"
   ]
  },
  {
   "cell_type": "code",
   "execution_count": 22,
   "id": "6bc3c775",
   "metadata": {},
   "outputs": [
    {
     "name": "stdout",
     "output_type": "stream",
     "text": [
      "GoalStateWithPath:<trichy>\n"
     ]
    },
    {
     "data": {
      "text/plain": [
       "['pudukottai', 'ilupur', 'viralimalai', 'trichy']"
      ]
     },
     "execution_count": 22,
     "metadata": {},
     "output_type": "execute_result"
    }
   ],
   "source": [
    "goal_state_path=best_first_search(r1,g)\n",
    "print(\"GoalStateWithPath:{0}\".format(goal_state_path))\n",
    "path_states(goal_state_path) \n"
   ]
  },
  {
   "cell_type": "code",
   "execution_count": 23,
   "id": "a031d166-e3c4-45d4-8d18-4b7fc2e205d3",
   "metadata": {},
   "outputs": [
    {
     "name": "stdout",
     "output_type": "stream",
     "text": [
      "Total Distance=68 Kilometers\n"
     ]
    }
   ],
   "source": [
    "print(\"Total Distance={0} Kilometers\".format(goal_state_path.path_cost))"
   ]
  },
  {
   "cell_type": "code",
   "execution_count": 24,
   "id": "e21db3fe",
   "metadata": {},
   "outputs": [
    {
     "name": "stdout",
     "output_type": "stream",
     "text": [
      "GoalStateWithPath:<pudukottai>\n"
     ]
    },
    {
     "data": {
      "text/plain": [
       "['tanjore', 'gandarvakottai', 'pudukottai']"
      ]
     },
     "execution_count": 24,
     "metadata": {},
     "output_type": "execute_result"
    }
   ],
   "source": [
    "goal_state_path=best_first_search(r2,g)\n",
    "print(\"GoalStateWithPath:{0}\".format(goal_state_path))\n",
    "path_states(goal_state_path) "
   ]
  },
  {
   "cell_type": "code",
   "execution_count": 25,
   "id": "39519fb0",
   "metadata": {},
   "outputs": [
    {
     "name": "stdout",
     "output_type": "stream",
     "text": [
      "Total Distance=63 Kilometers\n"
     ]
    }
   ],
   "source": [
    "print(\"Total Distance={0} Kilometers\".format(goal_state_path.path_cost))"
   ]
  },
  {
   "cell_type": "code",
   "execution_count": null,
   "id": "b5a7f5e2",
   "metadata": {},
   "outputs": [],
   "source": []
  }
 ],
 "metadata": {
  "interpreter": {
   "hash": "5c3c20d661c225f56c31cb7e3c3e4e216d31a5890816f8c2234433aeff4b2f1b"
  },
  "kernelspec": {
   "display_name": "Python 3.9.12 64-bit (windows store)",
   "language": "python",
   "name": "python3"
  },
  "language_info": {
   "codemirror_mode": {
    "name": "ipython",
    "version": 3
   },
   "file_extension": ".py",
   "mimetype": "text/x-python",
   "name": "python",
   "nbconvert_exporter": "python",
   "pygments_lexer": "ipython3",
   "version": "3.9.12"
  }
 },
 "nbformat": 4,
 "nbformat_minor": 5
}
